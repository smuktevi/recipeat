{
 "cells": [
  {
   "cell_type": "code",
   "execution_count": null,
   "metadata": {
    "scrolled": true
   },
   "outputs": [],
   "source": [
    "from bs4 import BeautifulSoup\n",
    "import re\n",
    "import pandas as pd\n",
    "import requests\n",
    "import seaborn as sns\n",
    "import matplotlib.pyplot as plt\n",
    "import requests\n",
    "from IPython.core.display import display, HTML\n",
    "from modules.constants import *\n",
    "import modulesrecipe_recommender"
   ]
  },
  {
   "cell_type": "code",
   "execution_count": null,
   "metadata": {},
   "outputs": [],
   "source": [
    "url = \"https://api.spoonacular.com/recipes/1082038/ingredientWidget?{apikey}&defaultCss=true\".format(apikey=apikey6)    \n",
    "payload={}\n",
    "headers = {\n",
    "    'Cookie': '__cfduid=d443da310537f29e03b78e744720641111613622052'\n",
    "}  \n",
    "response = requests.request(\"GET\", url, headers=headers, data=payload)\n",
    "(HTML(response.text))"
   ]
  },
  {
   "cell_type": "code",
   "execution_count": null,
   "metadata": {},
   "outputs": [],
   "source": [
    "url = \"https://api.spoonacular.com/recipes/1heowd/nutritionWidget?{apikey}&defaultCss=true\".format(apikey=apikey6)    \n",
    "payload={}\n",
    "headers = {\n",
    "    'Cookie': '__cfduid=d443da310537f29e03b78e744720641111613622052'\n",
    "}  \n",
    "response = requests.request(\"GET\", url, headers=headers, data=payload)\n",
    "response.text"
   ]
  }
 ],
 "metadata": {
  "kernelspec": {
   "display_name": "Python 3",
   "language": "python",
   "name": "python3"
  },
  "language_info": {
   "codemirror_mode": {
    "name": "ipython",
    "version": 3
   },
   "file_extension": ".py",
   "mimetype": "text/x-python",
   "name": "python",
   "nbconvert_exporter": "python",
   "pygments_lexer": "ipython3",
   "version": "3.8.5"
  }
 },
 "nbformat": 4,
 "nbformat_minor": 4
}
